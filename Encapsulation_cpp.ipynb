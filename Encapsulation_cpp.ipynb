{
  "nbformat": 4,
  "nbformat_minor": 0,
  "metadata": {
    "colab": {
      "name": "Encapsulation.cpp",
      "provenance": [],
      "authorship_tag": "ABX9TyPxKGBLydN2YtvxI5wOcFE8",
      "include_colab_link": true
    },
    "kernelspec": {
      "name": "python3",
      "display_name": "Python 3"
    },
    "language_info": {
      "name": "python"
    }
  },
  "cells": [
    {
      "cell_type": "markdown",
      "metadata": {
        "id": "view-in-github",
        "colab_type": "text"
      },
      "source": [
        "<a href=\"https://colab.research.google.com/github/Nimishmangee/OOP-Python-Assignments/blob/main/Encapsulation_cpp.ipynb\" target=\"_parent\"><img src=\"https://colab.research.google.com/assets/colab-badge.svg\" alt=\"Open In Colab\"/></a>"
      ]
    },
    {
      "cell_type": "code",
      "metadata": {
        "colab": {
          "base_uri": "https://localhost:8080/"
        },
        "id": "M7CFUQsptN2b",
        "outputId": "14766c17-acad-4e07-9bea-c0fa15d947ac"
      },
      "source": [
        "class a:\n",
        "  x=1\n",
        "  def get_var(self):\n",
        "    return self.x\n",
        "c1=a()\n",
        "print(c1.x)\n",
        "print(c1.get_var())"
      ],
      "execution_count": 5,
      "outputs": [
        {
          "output_type": "stream",
          "name": "stdout",
          "text": [
            "1\n",
            "1\n"
          ]
        }
      ]
    },
    {
      "cell_type": "markdown",
      "metadata": {
        "id": "w4m6KQgcw7uR"
      },
      "source": [
        "**Private Variables**"
      ]
    },
    {
      "cell_type": "code",
      "metadata": {
        "colab": {
          "base_uri": "https://localhost:8080/"
        },
        "id": "ghszjp3txB_3",
        "outputId": "0d5abbdd-1f58-486a-cc84-fbf1c8461646"
      },
      "source": [
        "%%writefile Encapsulation.cpp\n",
        "#include <iostream>\n",
        "using namespace std;\n",
        "\n",
        "class first{\n",
        "    private:\n",
        "    int a=1;\n",
        "    public:\n",
        "    int get_var(){\n",
        "        return a;\n",
        "    }\n",
        "};\n",
        "   int main(){\n",
        "       first ob;\n",
        "       cout<<ob.get_var();\n",
        "   }\n",
        "\n"
      ],
      "execution_count": 12,
      "outputs": [
        {
          "output_type": "stream",
          "name": "stdout",
          "text": [
            "Overwriting Encapsulation.cpp\n"
          ]
        }
      ]
    },
    {
      "cell_type": "code",
      "metadata": {
        "colab": {
          "base_uri": "https://localhost:8080/"
        },
        "id": "6jB8u5Hi0Wvp",
        "outputId": "d30cdb5a-dd6f-40bc-d9fc-d080fcbe081a"
      },
      "source": [
        "%%shell\n",
        "g++ Encapsulation.cpp  -o output_1\n",
        "./output_1"
      ],
      "execution_count": 13,
      "outputs": [
        {
          "output_type": "stream",
          "name": "stdout",
          "text": [
            "1"
          ]
        },
        {
          "output_type": "execute_result",
          "data": {
            "text/plain": [
              ""
            ]
          },
          "metadata": {},
          "execution_count": 13
        }
      ]
    },
    {
      "cell_type": "markdown",
      "metadata": {
        "id": "QaUdH8dK1BPe"
      },
      "source": [
        "**C++ Constructors**"
      ]
    },
    {
      "cell_type": "code",
      "metadata": {
        "colab": {
          "base_uri": "https://localhost:8080/"
        },
        "id": "1Yrb3mSA1Ewn",
        "outputId": "e016b2f7-b02a-4d05-a0af-fce1366e1e61"
      },
      "source": [
        "%%writefile Encapsulation.cpp\n",
        "#include <iostream>\n",
        "using namespace std;\n",
        "\n",
        "class example{\n",
        "      int a;\n",
        "    public:\n",
        "      int b;\n",
        "      int get()\n",
        "      {\n",
        "          return a;\n",
        "      }\n",
        "      example(int A,int B)\n",
        "      {\n",
        "          a=A;\n",
        "          b=B;\n",
        "      }\n",
        "};\n",
        "\n",
        "int main()\n",
        "{\n",
        "    example ob(10,20);\n",
        "    cout<<ob.b<<\" \"<<ob.get();\n",
        "}"
      ],
      "execution_count": 3,
      "outputs": [
        {
          "output_type": "stream",
          "name": "stdout",
          "text": [
            "Writing Encapsulation.cpp\n"
          ]
        }
      ]
    },
    {
      "cell_type": "code",
      "metadata": {
        "colab": {
          "base_uri": "https://localhost:8080/"
        },
        "id": "i9apCl6e19BB",
        "outputId": "8f0aae48-04c4-4cfb-cb8d-78ea7b93fd57"
      },
      "source": [
        "%%shell\n",
        "g++ Encapsulation.cpp  -o output_2\n",
        "./output_2"
      ],
      "execution_count": 4,
      "outputs": [
        {
          "output_type": "stream",
          "name": "stdout",
          "text": [
            "20 10"
          ]
        },
        {
          "output_type": "execute_result",
          "data": {
            "text/plain": [
              ""
            ]
          },
          "metadata": {},
          "execution_count": 4
        }
      ]
    },
    {
      "cell_type": "markdown",
      "metadata": {
        "id": "2syr-N_5MENv"
      },
      "source": [
        "**Python**"
      ]
    },
    {
      "cell_type": "code",
      "metadata": {
        "colab": {
          "base_uri": "https://localhost:8080/"
        },
        "id": "fjOfvvSjMSkH",
        "outputId": "e1a61360-1b85-4cb1-9aad-e90b79bcad08"
      },
      "source": [
        "class Country:  \n",
        "      \n",
        "    # init method or constructor   \n",
        "    def __init__(self,name):  \n",
        "        self.name = name \n",
        "      \n",
        "    # Sample Method   \n",
        "    def say_name(self):  \n",
        "        print('Hello, Country name is', self.name)  \n",
        "  \n",
        "# Creating different objects     \n",
        "c1 = Country('UK') \n",
        "c2 = Country('USA')\n",
        "c3 = Country('India')\n",
        "  \n",
        "c1.say_name()  \n",
        "c2.say_name()\n",
        "c3.say_name()"
      ],
      "execution_count": 5,
      "outputs": [
        {
          "output_type": "stream",
          "name": "stdout",
          "text": [
            "Hello, Country name is UK\n",
            "Hello, Country name is USA\n",
            "Hello, Country name is India\n"
          ]
        }
      ]
    },
    {
      "cell_type": "code",
      "metadata": {
        "colab": {
          "base_uri": "https://localhost:8080/"
        },
        "id": "RFf0AmnuMaGK",
        "outputId": "0e1020b9-5159-4c1a-c4d7-64eb68a56e1e"
      },
      "source": [
        "class Car:\n",
        "  __maxspeed = 0\n",
        "  __name = \"\"\n",
        "\n",
        "  def __init__(self):\n",
        "    self.__maxspeed = 100\n",
        "    self.__name = \"regular car\"\n",
        "\n",
        "  def drive(self):\n",
        "    print('driving. maxspeed ' + str(self.__maxspeed))\n",
        "\n",
        "car = Car()\n",
        "car.drive()\n",
        "mxspeed =10\n",
        "car.__maxspeed = 10        \n",
        "car.drive()"
      ],
      "execution_count": 6,
      "outputs": [
        {
          "output_type": "stream",
          "name": "stdout",
          "text": [
            "driving. maxspeed 100\n",
            "driving. maxspeed 100\n"
          ]
        }
      ]
    },
    {
      "cell_type": "code",
      "metadata": {
        "colab": {
          "base_uri": "https://localhost:8080/"
        },
        "id": "BdbVVN_8Me34",
        "outputId": "abc452ab-2177-42e1-aa52-6ba96deabf58"
      },
      "source": [
        "class student:\n",
        "  count=0\n",
        "  def __init__(self,num) :\n",
        "    student.count=student.count+num\n",
        "\n",
        "s1=student(4)\n",
        "s2=student(5)\n",
        "s3=student(6)\n",
        "\n",
        "print(\"number of students in OOP class :\", student.count)\n",
        "print(\"number of students in OOP class:\", s2.count)"
      ],
      "execution_count": 7,
      "outputs": [
        {
          "output_type": "stream",
          "name": "stdout",
          "text": [
            "number of students in OOP class : 15\n",
            "number of students in OOP class: 15\n"
          ]
        }
      ]
    },
    {
      "cell_type": "code",
      "metadata": {
        "colab": {
          "base_uri": "https://localhost:8080/"
        },
        "id": "MX0V6dikMx1h",
        "outputId": "f9f78d4c-cd62-4f30-b8c5-77fd43581b4b"
      },
      "source": [
        "class stud:\n",
        "  def __init__(self):\n",
        "    print(\"This is non parametrized constructor\")\n",
        "\n",
        "  def show(self, num):\n",
        "    print(\"number of students :\", num*5)\n",
        "    return num\n",
        "\n",
        "s1=stud()\n",
        "s2=stud()\n",
        "result1= s1.show(6)\n",
        "result2= s2.show(7)"
      ],
      "execution_count": 9,
      "outputs": [
        {
          "output_type": "stream",
          "name": "stdout",
          "text": [
            "This is non parametrized constructor\n",
            "This is non parametrized constructor\n",
            "number of students : 30\n",
            "number of students : 35\n"
          ]
        }
      ]
    },
    {
      "cell_type": "code",
      "metadata": {
        "id": "aM-Hei-YNi3G"
      },
      "source": [
        "class student:\n",
        "  def __init__(self,stname,stage) :\n",
        "    self.name = stname\n",
        "    self.age = stage\n",
        "    print(\"This is parametrized constructor\") \n",
        "\n",
        "  def display(self,styear):\n",
        "       print(\"Student :\", self.name, self.age, styear)\n",
        "       if styear <= 2020 :\n",
        "         print (\"Student has completed the course\")\n",
        "       return \n",
        "s1=student(\"Ram\",21)\n",
        "s2=student(\"Krishna\",23)\n",
        "s3=student(\"Kumar\",22)\n",
        "\n",
        "s1.display(2021)\n",
        "s2.display(2019)"
      ],
      "execution_count": null,
      "outputs": []
    }
  ]
}