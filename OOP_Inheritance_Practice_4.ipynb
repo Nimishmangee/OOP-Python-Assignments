{
  "nbformat": 4,
  "nbformat_minor": 0,
  "metadata": {
    "colab": {
      "name": "OOP_Inheritance_Practice_4.ipynb",
      "provenance": [],
      "authorship_tag": "ABX9TyM3GqQHskeaGLS8xzPEWTdj",
      "include_colab_link": true
    },
    "kernelspec": {
      "name": "python3",
      "display_name": "Python 3"
    },
    "language_info": {
      "name": "python"
    }
  },
  "cells": [
    {
      "cell_type": "markdown",
      "metadata": {
        "id": "view-in-github",
        "colab_type": "text"
      },
      "source": [
        "<a href=\"https://colab.research.google.com/github/Nimishmangee/OOP-Python-Assignments/blob/main/OOP_Inheritance_Practice_4.ipynb\" target=\"_parent\"><img src=\"https://colab.research.google.com/assets/colab-badge.svg\" alt=\"Open In Colab\"/></a>"
      ]
    },
    {
      "cell_type": "code",
      "metadata": {
        "colab": {
          "base_uri": "https://localhost:8080/"
        },
        "id": "KzeFy2bXC5md",
        "outputId": "1438c85a-a10c-4e2a-99f3-884aa6d020d1"
      },
      "source": [
        "#Types-Inheritance\n",
        "class Employee:\n",
        "  def __init__(self, name, ID, gender):\n",
        "    self.name = name\n",
        "    self.ID = ID\n",
        "    self.gender = gender\n",
        "\n",
        "  def getID(self):\n",
        "    print(\"ID:\", self.ID,'\\n')\n",
        "\n",
        "# SINGLE INHERITANCE\n",
        "class Boss(Employee):\n",
        "  def __init__(self, name, ID, gender, salary):\n",
        "    super().__init__(name, ID, gender)\n",
        "  \n",
        "  def position(self):\n",
        "    print(\"Boss\")\n",
        "boss = Boss('Ram', 32456, 'Male', 645542)\n",
        "boss.position() \n",
        "boss.getID()\n",
        "\n",
        "# HIERARCHIAL INHERITANCE\n",
        "class Manager(Employee):\n",
        "  def __init__(self, name, ID, gender, salary):\n",
        "    super().__init__(name, ID, gender)\n",
        "  \n",
        "  def position(self):\n",
        "    print(\"Manager\")\n",
        "mgr = Manager('Sunita', 75256, 'Female', 645542)\n",
        "mgr.position() \n",
        "mgr.getID()\n",
        "\n",
        "# MULTILEVEL INHERITANCE\n",
        "class CO(Boss):\n",
        "  def __init__(self, name, ID, gender, salary, position):\n",
        "    super().__init__(name, ID, gender, salary)\n",
        "  def position(self):\n",
        "    print(\"CEO\")\n",
        "ceo = CO('Carmen', 1002, 'Female', 120000, 'CEO')\n",
        "ceo.position()\n",
        "ceo.getID()\n",
        "\n",
        "#MULTIPLE INHERITANCE\n",
        "class Owner(CO, Boss, Employee):\n",
        "  def __init__(self, name, ID):\n",
        "    self.name = name\n",
        "    self.ID = ID\n",
        "o = Owner('Verma', 1001)\n",
        "o.position()\n",
        "o.getID()\n",
        "\n",
        "#HYBRID INHERITANCE\n",
        "class ManagementHead(Manager, Boss):\n",
        "  def __init__(self, name, ID):\n",
        "    self.name = name\n",
        "    self.ID = ID\n",
        "Mgmt = ManagementHead('Minakshi', 38692)\n",
        "Mgmt.position()\n",
        "Mgmt.getID()\n"
      ],
      "execution_count": 2,
      "outputs": [
        {
          "output_type": "stream",
          "name": "stdout",
          "text": [
            "Boss\n",
            "ID: 32456 \n",
            "\n",
            "Manager\n",
            "ID: 75256 \n",
            "\n",
            "CEO\n",
            "ID: 1002 \n",
            "\n",
            "CEO\n",
            "ID: 1001 \n",
            "\n",
            "Manager\n",
            "ID: 38692 \n",
            "\n"
          ]
        }
      ]
    },
    {
      "cell_type": "markdown",
      "metadata": {
        "id": "5HDqn2VTDM8c"
      },
      "source": [
        "Problem 1"
      ]
    },
    {
      "cell_type": "code",
      "metadata": {
        "colab": {
          "base_uri": "https://localhost:8080/"
        },
        "id": "CmkcqhQjDPV3",
        "outputId": "d1e2d2fa-053b-4fb3-a779-079c12b34d22"
      },
      "source": [
        "class Player:\n",
        "    MAX_POSITION = 10     # Class attribute   \n",
        "    def __init__(self):\n",
        "      self.position = 0 \n",
        "print(Player.MAX_POSITION)    # instance accessing Class attribute\n",
        "# Create a player p and print its MAX_POSITITON\n",
        "p = Player()\n",
        "print(p.MAX_POSITION)  # what is the output?"
      ],
      "execution_count": 4,
      "outputs": [
        {
          "output_type": "stream",
          "name": "stdout",
          "text": [
            "10\n",
            "10\n"
          ]
        }
      ]
    },
    {
      "cell_type": "markdown",
      "metadata": {
        "id": "04X2K1BfDd8R"
      },
      "source": [
        "OOP - Inheritance - Quiz\n",
        "P1 - what will happen if you try to assign another value to a class attribute when accessing it from an instance?\n",
        "\n",
        "Ans: The previous or default value will be overwritten and the new value will be stored, only for that instance, not for other instances of that class or instances "
      ]
    },
    {
      "cell_type": "code",
      "metadata": {
        "id": "80Z8zCPCDfCp"
      },
      "source": [
        "# Problem 1:\n",
        "# Create Players p1 and p2\n",
        "# Print p1.MAX_SPEED and p2.MAX_SPEED\n",
        "# Assign 7 to p1.MAX_SPEED\n",
        "# Print p1.MAX_SPEED and p2.MAX_SPEED\n",
        "# Print Player.MAX_SPEED"
      ],
      "execution_count": null,
      "outputs": []
    },
    {
      "cell_type": "code",
      "metadata": {
        "colab": {
          "base_uri": "https://localhost:8080/"
        },
        "id": "niyQ2YkCDs-u",
        "outputId": "728aa8c0-c538-4927-963e-b41d9a4259a1"
      },
      "source": [
        "# Problem 1 solution:\n",
        "class Player:\n",
        "    MAX_SPEED = 10     \n",
        "    def __init__(self, speed):\n",
        "      self.speed = speed\n",
        "\n",
        "p1 = Player(6)\n",
        "p2 = Player(9)\n",
        "print(p1.MAX_SPEED, p2.MAX_SPEED)\n",
        "p1.MAX_SPEED = 7\n",
        "print(p1.MAX_SPEED, p2.MAX_SPEED)\n",
        "print(Player.MAX_SPEED)"
      ],
      "execution_count": 5,
      "outputs": [
        {
          "output_type": "stream",
          "name": "stdout",
          "text": [
            "10 10\n",
            "7 10\n",
            "10\n"
          ]
        }
      ]
    },
    {
      "cell_type": "markdown",
      "metadata": {
        "id": "etIHvdfvD0u9"
      },
      "source": [
        "Problem 2:"
      ]
    },
    {
      "cell_type": "code",
      "metadata": {
        "id": "4n1v3W1qD2MY"
      },
      "source": [
        "class Player:\n",
        "    MAX_POSITION = 10     # Class attribute   \n",
        "    def __init__(self):\n",
        "      self.position = 0\n",
        "class Racer(Player):\n",
        "    MAX_SPEED = 5      # adding attributes to Child Class\n",
        "p = Player()\n",
        "r = Racer()\n",
        "# What is the output?\n",
        "print(\"p.MAX_SPEED = \", p.MAX_SPEED)  \n",
        "print(\"r.MAX_SPEED = \", r.MAX_SPEED)\n",
        "print(\"p.MAX_POSITION = \", p.MAX_POSITION)\n",
        "print(\"r.MAX_POSITION = \", r.MAX_POSITION)"
      ],
      "execution_count": null,
      "outputs": []
    },
    {
      "cell_type": "markdown",
      "metadata": {
        "id": "PxeQKtKUEHsp"
      },
      "source": [
        "**Output\n",
        "Error will occur for p.MAX_SPEED, as class Player has no attribute named \n",
        "\"MAX_SPEED\"\n",
        "\n"
      ]
    },
    {
      "cell_type": "code",
      "metadata": {
        "colab": {
          "base_uri": "https://localhost:8080/"
        },
        "id": "_Iey7HzBEL_D",
        "outputId": "71eb1a81-532f-449b-9845-5b81f3cbef53"
      },
      "source": [
        "# Problem 3: making changes in Child class methods\n",
        "class Employee:\n",
        "    def __init__(self, name, salary=30000):\n",
        "        self.name = name\n",
        "        self.salary = salary\n",
        "    def give_raise(self, amount):\n",
        "        self.salary += amount        \n",
        "class Manager(Employee):\n",
        "    def display(self):\n",
        "        print(\"Manager \", self.name)\n",
        "    def __init__(self, name, salary=50000, project=None):\n",
        "        Employee.__init__(self, name, salary)\n",
        "        self.project = project\n",
        "    def give_raise(self, amount, bonus=1.05): # Add a give_raise method\n",
        "        new_amount = amount * bonus\n",
        "        Employee.give_raise(self, new_amount)  # what is the diff?\n",
        "mngr = Manager(\"Ram\", 78500)\n",
        "mngr.give_raise(1000)\n",
        "print(mngr.salary)   # what is the output?\n",
        "mngr.give_raise(2000, bonus=1.03)\n",
        "print(mngr.salary)"
      ],
      "execution_count": 6,
      "outputs": [
        {
          "output_type": "stream",
          "name": "stdout",
          "text": [
            "79550.0\n",
            "81610.0\n"
          ]
        }
      ]
    },
    {
      "cell_type": "markdown",
      "metadata": {
        "id": "vAZv7fXPEoio"
      },
      "source": [
        "**Alternative constructors**\n"
      ]
    },
    {
      "cell_type": "code",
      "metadata": {
        "colab": {
          "base_uri": "https://localhost:8080/"
        },
        "id": "E0BGChXDEqVu",
        "outputId": "3740a208-49ca-4f20-bf73-65a541a65adc"
      },
      "source": [
        "class MyDate:\n",
        "    def __init__(self, year, month, day):     # Constructor\n",
        "      # Python allows multiple variable assignments in one line\n",
        "      self.year, self.month, self.day = year, month, day    \n",
        "    # Define a class method from_str\n",
        "    @classmethod\n",
        "    def from_str(cls, datestr):\n",
        "    # Split the string at \"-\" and  convert each part to integer\n",
        "        parts = datestr.split(\"-\")\n",
        "        year, month, day = int(parts[0]), int(parts[1]), int(parts[2])\n",
        "        return cls(year, month, day)       # Return the class instance  \n",
        "bd = MyDate.from_str('2021-09-08')   \n",
        "print(bd.year)\n",
        "print(bd.month)\n",
        "print(bd.day)"
      ],
      "execution_count": 7,
      "outputs": [
        {
          "output_type": "stream",
          "name": "stdout",
          "text": [
            "2021\n",
            "9\n",
            "8\n"
          ]
        }
      ]
    },
    {
      "cell_type": "code",
      "metadata": {
        "colab": {
          "base_uri": "https://localhost:8080/"
        },
        "id": "eua6jf9xE65E",
        "outputId": "979c4d68-94f7-48f7-9382-d6fe89e53462"
      },
      "source": [
        "# Alternative Constructor - Practice\n",
        "class Employee:\n",
        "  def __init__(self, name, empID, salary):\n",
        "    self.name = name\n",
        "    self.empID = empID\n",
        "    self.salary = salary\n",
        "\n",
        "  @classmethod\n",
        "  def intern(cls, emp):\n",
        "    name = emp[0]\n",
        "    empID = emp[1]\n",
        "    salary = emp[2]\n",
        "    return cls(name, empID, salary)\n",
        "\n",
        "emp = Employee.intern([\"Chris\", 414628, '1.5 years'])\n",
        "print(emp.name)\n",
        "print(emp.empID)\n",
        "print(emp.salary)"
      ],
      "execution_count": 8,
      "outputs": [
        {
          "output_type": "stream",
          "name": "stdout",
          "text": [
            "Chris\n",
            "414628\n",
            "1.5 years\n"
          ]
        }
      ]
    },
    {
      "cell_type": "markdown",
      "metadata": {
        "id": "zntWpLytFW_x"
      },
      "source": [
        "**Problem 5 : Define a subclass **"
      ]
    },
    {
      "cell_type": "code",
      "metadata": {
        "id": "LLUJBnN2E-4M"
      },
      "source": [
        "# Solution:\n",
        "class Employee:\n",
        "  MIN_SALARY = 30000    \n",
        "  def __init__(self, name, salary=MIN_SALARY):\n",
        "      self.name = name\n",
        "      if salary >= Employee.MIN_SALARY:\n",
        "        self.salary = salary\n",
        "      else:\n",
        "        self.salary = Employee.MIN_SALARY\n",
        "  def give_raise(self, amount):\n",
        "      self.salary += amount        \n",
        "# Define a new class Manager inheriting from Employee\n",
        "class Manager(Employee):\n",
        "  pass\n",
        "# Define a Manager object or child class \n",
        "mng = Manager('Rohit', 35000)\n",
        "# Print mng's name\n",
        "print(mng.name)"
      ],
      "execution_count": null,
      "outputs": []
    },
    {
      "cell_type": "code",
      "metadata": {
        "colab": {
          "base_uri": "https://localhost:8080/"
        },
        "id": "4t20E-9pFpWh",
        "outputId": "338e65e9-382e-4888-f3bb-c36ff5fd1968"
      },
      "source": [
        "#Define a subclass - Practice\n",
        "class Vehicle:\n",
        "  def __init__(self, model, brand, color, price):\n",
        "    self.model = model\n",
        "    self.brand = brand\n",
        "    self.color = color\n",
        "    self.price = price\n",
        "\n",
        "  def displayInfo(self):\n",
        "    print(\"Model:\", self.model+',',\"Brand:\",self.brand+',',\"Color:\", self.color+',', \"Price:\", self.price)\n",
        "\n",
        "class Bus(Vehicle):\n",
        "  def __init__(self, model, brand, color, price, capacity):\n",
        "    super().__init__(model, brand, color, price)\n",
        "    self.capacity = capacity\n",
        "  def displayInfo(self):\n",
        "    Vehicle.displayInfo(self)\n",
        "    print(\"Seating capacity:\",self.capacity)\n",
        "\n",
        "bus1 = Bus('Rx-50', 'Mercedes', 'Yellow', 450000, 50)\n",
        "bus1.displayInfo()"
      ],
      "execution_count": 10,
      "outputs": [
        {
          "output_type": "stream",
          "name": "stdout",
          "text": [
            "Model: Rx-50, Brand: Mercedes, Color: Yellow, Price: 450000\n",
            "Seating capacity: 50\n"
          ]
        }
      ]
    },
    {
      "cell_type": "markdown",
      "metadata": {
        "id": "ydclw_hMFxVB"
      },
      "source": [
        "**Method** **inheritance**\n"
      ]
    },
    {
      "cell_type": "code",
      "metadata": {
        "colab": {
          "base_uri": "https://localhost:8080/"
        },
        "id": "TnqU4ZnxFzoR",
        "outputId": "269dd8c1-b7ae-4c7e-de36-c29aed4befdf"
      },
      "source": [
        "# Solution\n",
        "class Employee:\n",
        "    def __init__(self, name, salary=30000):\n",
        "        self.name = name\n",
        "        self.salary = salary\n",
        "    def give_raise(self, amount):\n",
        "        self.salary += amount       \n",
        "class Manager(Employee):\n",
        "  # Add a constructor \n",
        "    def __init__(self, name, salary=50000, project=None):\n",
        "        Employee.__init__(self, name, salary) # Call the parent's constructor \n",
        "        self.project = project      # Assign project attribute\n",
        "    def display(self):\n",
        "        print(\"Manager \", self.name)\n",
        "m1 = Manager('Rohit', 100000)\n",
        "m1.display()"
      ],
      "execution_count": 11,
      "outputs": [
        {
          "output_type": "stream",
          "name": "stdout",
          "text": [
            "Manager  Rohit\n"
          ]
        }
      ]
    },
    {
      "cell_type": "markdown",
      "metadata": {
        "id": "th0ptU1WGAVG"
      },
      "source": [
        "Which of the following statements about inheritance of class attributes is correct?\n",
        "\n",
        "Class attributes CANNOT be inherited, but new class attributes of the same name CAN be created in a child class.\n",
        "\n",
        "Class attributes CANNOT be inherited, and new class attributes of the same name CANNOT be created in a child class.\n",
        "\n",
        "Class attributes CAN be inherited, and the value of class attributes CAN be overwritten in the child class\n",
        "\n",
        "Class attributes can be inherited, and the value of class attributes CANNOT be overwritten in the child class\n",
        "\n",
        "# ANSWERS\n",
        "False\n",
        "\n",
        "False\n",
        "\n",
        "True\n",
        "\n",
        "False"
      ]
    }
  ]
}